{
 "cells": [
  {
   "cell_type": "code",
   "execution_count": 1,
   "id": "944a1562-7008-4bf0-8205-afbaa64e966c",
   "metadata": {},
   "outputs": [],
   "source": [
    "import openai"
   ]
  },
  {
   "cell_type": "code",
   "execution_count": 2,
   "id": "38dc1f35-49d6-47c9-a622-f49d44ed0bcc",
   "metadata": {},
   "outputs": [],
   "source": [
    "from openai import OpenAI"
   ]
  },
  {
   "cell_type": "code",
   "execution_count": 3,
   "id": "8cc52d1c-37b5-4b51-8096-022fb342fa42",
   "metadata": {},
   "outputs": [],
   "source": [
    "client = OpenAI()"
   ]
  },
  {
   "cell_type": "code",
   "execution_count": 4,
   "id": "b3d8c688-68c4-48fd-91cd-fb1d949ee016",
   "metadata": {},
   "outputs": [],
   "source": [
    "import os"
   ]
  },
  {
   "cell_type": "code",
   "execution_count": 8,
   "id": "ca45da8a-8272-45d1-af26-9105f9c4d1b5",
   "metadata": {},
   "outputs": [],
   "source": [
    "response = client.chat.completions.create(\n",
    "    model='gpt-4o',\n",
    "    messages=[{\"role\": \"user\", \"content\": \"is it too late to join the course\"}]\n",
    ")"
   ]
  },
  {
   "cell_type": "code",
   "execution_count": 9,
   "id": "48c42e32-ebe2-4c21-a5f1-e0a5fda240ac",
   "metadata": {},
   "outputs": [
    {
     "data": {
      "text/plain": [
       "\"I'm not sure which specific course you're referring to, but whether it's too late to join generally depends on several factors:\\n\\n1. **Enrollment Deadlines:** Check if the course has a specific enrollment deadline or if it's offered on a rolling basis.\\n\\n2. **Course Progress:** If the course has already started, find out how far along it is. Some courses allow late enrollment and might provide resources for you to catch up.\\n\\n3. **Instructor/Institution Policy:** Reach out to the course instructor or the institution offering the course. They can provide guidance on late enrollment policies.\\n\\n4. **Self-Assessment:** Consider your ability to catch up on missed material and commit to the workload. \\n\\nIf you can provide more details about the course, I might be able to give more tailored advice.\""
      ]
     },
     "execution_count": 9,
     "metadata": {},
     "output_type": "execute_result"
    }
   ],
   "source": [
    "response.choices[0].message.content"
   ]
  },
  {
   "cell_type": "code",
   "execution_count": null,
   "id": "b91c5aab-9123-462a-8224-28ccb2e06f62",
   "metadata": {},
   "outputs": [],
   "source": []
  }
 ],
 "metadata": {
  "kernelspec": {
   "display_name": "Python 3 (ipykernel)",
   "language": "python",
   "name": "python3"
  },
  "language_info": {
   "codemirror_mode": {
    "name": "ipython",
    "version": 3
   },
   "file_extension": ".py",
   "mimetype": "text/x-python",
   "name": "python",
   "nbconvert_exporter": "python",
   "pygments_lexer": "ipython3",
   "version": "3.12.1"
  }
 },
 "nbformat": 4,
 "nbformat_minor": 5
}
